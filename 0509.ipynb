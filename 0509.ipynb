{
  "nbformat": 4,
  "nbformat_minor": 0,
  "metadata": {
    "colab": {
      "name": "0509.ipynb",
      "provenance": [],
      "authorship_tag": "ABX9TyMOWb5Wcw1IWZ4bm6rxcUvh",
      "include_colab_link": true
    },
    "kernelspec": {
      "name": "python3",
      "display_name": "Python 3"
    },
    "language_info": {
      "name": "python"
    }
  },
  "cells": [
    {
      "cell_type": "markdown",
      "metadata": {
        "id": "view-in-github",
        "colab_type": "text"
      },
      "source": [
        "<a href=\"https://colab.research.google.com/github/dingshihrong/Introduction-to-Computers/blob/main/0509.ipynb\" target=\"_parent\"><img src=\"https://colab.research.google.com/assets/colab-badge.svg\" alt=\"Open In Colab\"/></a>"
      ]
    },
    {
      "cell_type": "code",
      "execution_count": 4,
      "metadata": {
        "colab": {
          "base_uri": "https://localhost:8080/"
        },
        "id": "EF8ao08s7hLh",
        "outputId": "bf0c753f-2d9e-49b8-8c1e-bb3ffcd4c608"
      },
      "outputs": [
        {
          "output_type": "stream",
          "name": "stdout",
          "text": [
            "請輸入你的體溫36\n",
            "體溫正常!\n"
          ]
        }
      ],
      "source": [
        "temp = float(input(\"請輸入你的體溫\"))\n",
        "if temp >= 37.5:\n",
        "  print(\"體溫過高!\")\n",
        "elif temp >= 37and temp <=37.4:\n",
        "  print(\"體溫略高!\")\n",
        "elif temp >=34and temp <=36.9:\n",
        "  print(\"體溫正常!\")\n",
        "else:\n",
        "  print(\"體溫異常，請重新量測!\")\n"
      ]
    },
    {
      "cell_type": "code",
      "source": [
        "grade = int(input(\"請輸入成績:\"))\n",
        "if grade >= 90:\n",
        "  print(\"A\")\n",
        "elif grade >=80and grade <=89:\n",
        "  print(\"B\")\n",
        "elif grade >=70and grade <=79:\n",
        "  print(\"C\")\n",
        "elif grade >=60and grade <=69:\n",
        "  print(\"D\")\n",
        "else:\n",
        "  print(\"E\")\n",
        "  "
      ],
      "metadata": {
        "colab": {
          "base_uri": "https://localhost:8080/"
        },
        "id": "eiky7Ox3_sAw",
        "outputId": "0bc64f7b-943a-4667-c738-0b566aac5ab3"
      },
      "execution_count": 7,
      "outputs": [
        {
          "output_type": "stream",
          "name": "stdout",
          "text": [
            "請輸入成績:68\n",
            "D\n"
          ]
        }
      ]
    },
    {
      "cell_type": "code",
      "source": [
        "money = int(input(\"請輸入購物金額:\"))\n",
        "if (money >= 10000):\n",
        "  if(money >= 100000):\n",
        "    print(\"八折\",money*0.8,end = \"元\\n\")\n",
        "  elif(money >= 50000):\n",
        "    print(\"八五折\",money*0.85,end = \"元\\n\")\n",
        "  elif(money >= 30000):\n",
        "    print(\"九折\",money*0.9,end = \"元\\n\")\n",
        "  else:\n",
        "    print(\"打九五折\",money*0.95,end = \"元\\n\")\n",
        "else:\n",
        "  print(\"沒打折\",money,end = \"元\\n\")"
      ],
      "metadata": {
        "colab": {
          "base_uri": "https://localhost:8080/"
        },
        "id": "0NiQeWHGEnml",
        "outputId": "69037e73-d35a-4fee-e118-454fdee1b7d6"
      },
      "execution_count": 12,
      "outputs": [
        {
          "output_type": "stream",
          "name": "stdout",
          "text": [
            "請輸入購物金額:30000\n",
            "九折 27000.0元\n"
          ]
        }
      ]
    },
    {
      "cell_type": "code",
      "source": [
        "month = int(input(\"請輸入月份\"))\n",
        "if(month == 3 or month == 4 or month == 5):\n",
        "  print(month,\"月是春天!\")\n",
        "elif(month == 6 or month == 7 or month == 8):\n",
        "  print(month,\"月是夏天!\")\n",
        "elif(month == 9 or month == 10 or month == 11):\n",
        "  print(month,\"月是秋天!\")\n",
        "elif(month == 12 or month == 1 or month == 2):\n",
        "  print(month,\"月是冬天!\")\n",
        "else:\n",
        "  print(\"月份不在範圍內!\")"
      ],
      "metadata": {
        "colab": {
          "base_uri": "https://localhost:8080/"
        },
        "id": "9ZdNz8PKHzFr",
        "outputId": "c09efb26-da9b-44e2-893e-3a5112192c5f"
      },
      "execution_count": 17,
      "outputs": [
        {
          "output_type": "stream",
          "name": "stdout",
          "text": [
            "請輸入月份3\n",
            "3 月是春天!\n"
          ]
        }
      ]
    },
    {
      "cell_type": "code",
      "source": [
        "revenue = int(input(\"請輸入今年收入淨額:\"))\n",
        "if(revenue >= 300000):\n",
        "  if(revenue >= 2000000):\n",
        "    print(\"付稅金額:\",revenue*0.3,end = \"元\\n\")\n",
        "  elif(revenue >= 1000000):\n",
        "    print(\"付稅金額:\",revenue*0.21,end = \"元\\n\")\n",
        "  elif(revenue >= 600000):\n",
        "    print(\"付稅金額:\",revenue*0.13,end = \"元\\n\")\n",
        "  else:\n",
        "    print(\"付稅金額:\",revenue*0.06,end = \"元\\n\")\n",
        "else:\n",
        "  print(\"不用繳稅\")\n",
        "  "
      ],
      "metadata": {
        "colab": {
          "base_uri": "https://localhost:8080/"
        },
        "id": "z-eOT-kdJ9pq",
        "outputId": "6e41d564-2469-42df-8187-1015939b291b"
      },
      "execution_count": 21,
      "outputs": [
        {
          "output_type": "stream",
          "name": "stdout",
          "text": [
            "請輸入今年收入淨額:300000\n",
            "付稅金額: 18000.0元\n"
          ]
        }
      ]
    }
  ]
}